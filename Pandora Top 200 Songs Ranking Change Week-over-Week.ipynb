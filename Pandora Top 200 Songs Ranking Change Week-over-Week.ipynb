{
 "cells": [
  {
   "cell_type": "code",
   "execution_count": 2,
   "id": "3a6bb40a",
   "metadata": {},
   "outputs": [],
   "source": [
    "import pandas as pd"
   ]
  },
  {
   "cell_type": "code",
   "execution_count": 3,
   "id": "3a34f479",
   "metadata": {},
   "outputs": [],
   "source": [
    "# allow us to see more rows in output tables for validation purposes\n",
    "\n",
    "pd.set_option('display.max_rows', 1000)"
   ]
  },
  {
   "cell_type": "code",
   "execution_count": 4,
   "id": "cd9b38da",
   "metadata": {},
   "outputs": [
    {
     "data": {
      "text/html": [
       "<div>\n",
       "<style scoped>\n",
       "    .dataframe tbody tr th:only-of-type {\n",
       "        vertical-align: middle;\n",
       "    }\n",
       "\n",
       "    .dataframe tbody tr th {\n",
       "        vertical-align: top;\n",
       "    }\n",
       "\n",
       "    .dataframe thead th {\n",
       "        text-align: right;\n",
       "    }\n",
       "</style>\n",
       "<table border=\"1\" class=\"dataframe\">\n",
       "  <thead>\n",
       "    <tr style=\"text-align: right;\">\n",
       "      <th></th>\n",
       "      <th>Rank</th>\n",
       "      <th>Artist</th>\n",
       "      <th>Title</th>\n",
       "    </tr>\n",
       "  </thead>\n",
       "  <tbody>\n",
       "    <tr>\n",
       "      <th>0</th>\n",
       "      <td>1</td>\n",
       "      <td>Peggy Gou</td>\n",
       "      <td>(It Goes Like) Nanana (Edit)</td>\n",
       "    </tr>\n",
       "    <tr>\n",
       "      <th>1</th>\n",
       "      <td>2</td>\n",
       "      <td>Billie Eilish</td>\n",
       "      <td>What Was I Made For? [From The Motion Picture ...</td>\n",
       "    </tr>\n",
       "    <tr>\n",
       "      <th>2</th>\n",
       "      <td>3</td>\n",
       "      <td>Jain</td>\n",
       "      <td>Makeba</td>\n",
       "    </tr>\n",
       "    <tr>\n",
       "      <th>3</th>\n",
       "      <td>4</td>\n",
       "      <td>Teya Dora</td>\n",
       "      <td>Džanum</td>\n",
       "    </tr>\n",
       "    <tr>\n",
       "      <th>4</th>\n",
       "      <td>5</td>\n",
       "      <td>Bibi Babydoll &amp; Dj Brunin XM</td>\n",
       "      <td>Automotivo Bibi Fogosa</td>\n",
       "    </tr>\n",
       "  </tbody>\n",
       "</table>\n",
       "</div>"
      ],
      "text/plain": [
       "   Rank                        Artist  \\\n",
       "0     1                     Peggy Gou   \n",
       "1     2                 Billie Eilish   \n",
       "2     3                          Jain   \n",
       "3     4                     Teya Dora   \n",
       "4     5  Bibi Babydoll & Dj Brunin XM   \n",
       "\n",
       "                                               Title  \n",
       "0                       (It Goes Like) Nanana (Edit)  \n",
       "1  What Was I Made For? [From The Motion Picture ...  \n",
       "2                                             Makeba  \n",
       "3                                             Džanum  \n",
       "4                             Automotivo Bibi Fogosa  "
      ]
     },
     "execution_count": 4,
     "metadata": {},
     "output_type": "execute_result"
    }
   ],
   "source": [
    "# There are 4 different CSV files that we need to concatenate. This is the first file representing the first week.\n",
    "# Importing the first file and checking it before importing the next 3 files.\n",
    "\n",
    "df1 = pd.read_csv(r'C:\\Users\\mulka\\Downloads\\Week1 - 22-Jul-to-28-Jul-2023.csv')\n",
    "df1.head()"
   ]
  },
  {
   "cell_type": "code",
   "execution_count": 5,
   "id": "c8967af8",
   "metadata": {},
   "outputs": [],
   "source": [
    "# The first check looked good, so importing the next 3 files.\n",
    "\n",
    "df2 = pd.read_csv(r'C:\\Users\\mulka\\Downloads\\Week2 - 29-Jul-to-4-Aug-2023.csv')\n",
    "df3 = pd.read_csv(r'C:\\Users\\mulka\\Downloads\\Week3 - 5-Aug-to-11-Aug-2023.csv')\n",
    "df4 = pd.read_csv(r'C:\\Users\\mulka\\Downloads\\Week4 - 11-Aug-to-17-Aug-2023.csv')"
   ]
  },
  {
   "cell_type": "code",
   "execution_count": 6,
   "id": "1726a0db",
   "metadata": {},
   "outputs": [],
   "source": [
    "# Creating variables to add the week number to each respective file\n",
    "\n",
    "Week1 = \"Week 1\"\n",
    "Week2 = \"Week 2\"\n",
    "Week3 = \"Week 3\"\n",
    "Week4 = \"Week 4\""
   ]
  },
  {
   "cell_type": "code",
   "execution_count": 7,
   "id": "d56823eb",
   "metadata": {},
   "outputs": [
    {
     "data": {
      "text/html": [
       "<div>\n",
       "<style scoped>\n",
       "    .dataframe tbody tr th:only-of-type {\n",
       "        vertical-align: middle;\n",
       "    }\n",
       "\n",
       "    .dataframe tbody tr th {\n",
       "        vertical-align: top;\n",
       "    }\n",
       "\n",
       "    .dataframe thead th {\n",
       "        text-align: right;\n",
       "    }\n",
       "</style>\n",
       "<table border=\"1\" class=\"dataframe\">\n",
       "  <thead>\n",
       "    <tr style=\"text-align: right;\">\n",
       "      <th></th>\n",
       "      <th>Rank</th>\n",
       "      <th>Artist</th>\n",
       "      <th>Title</th>\n",
       "      <th>Week Number</th>\n",
       "      <th>date</th>\n",
       "    </tr>\n",
       "  </thead>\n",
       "  <tbody>\n",
       "    <tr>\n",
       "      <th>0</th>\n",
       "      <td>1</td>\n",
       "      <td>Peggy Gou</td>\n",
       "      <td>(It Goes Like) Nanana (Edit)</td>\n",
       "      <td>Week 1</td>\n",
       "      <td>07/28/2023</td>\n",
       "    </tr>\n",
       "    <tr>\n",
       "      <th>1</th>\n",
       "      <td>2</td>\n",
       "      <td>Billie Eilish</td>\n",
       "      <td>What Was I Made For? [From The Motion Picture ...</td>\n",
       "      <td>Week 1</td>\n",
       "      <td>07/28/2023</td>\n",
       "    </tr>\n",
       "    <tr>\n",
       "      <th>2</th>\n",
       "      <td>3</td>\n",
       "      <td>Jain</td>\n",
       "      <td>Makeba</td>\n",
       "      <td>Week 1</td>\n",
       "      <td>07/28/2023</td>\n",
       "    </tr>\n",
       "    <tr>\n",
       "      <th>3</th>\n",
       "      <td>4</td>\n",
       "      <td>Teya Dora</td>\n",
       "      <td>Džanum</td>\n",
       "      <td>Week 1</td>\n",
       "      <td>07/28/2023</td>\n",
       "    </tr>\n",
       "    <tr>\n",
       "      <th>4</th>\n",
       "      <td>5</td>\n",
       "      <td>Bibi Babydoll &amp; Dj Brunin XM</td>\n",
       "      <td>Automotivo Bibi Fogosa</td>\n",
       "      <td>Week 1</td>\n",
       "      <td>07/28/2023</td>\n",
       "    </tr>\n",
       "  </tbody>\n",
       "</table>\n",
       "</div>"
      ],
      "text/plain": [
       "   Rank                        Artist  \\\n",
       "0     1                     Peggy Gou   \n",
       "1     2                 Billie Eilish   \n",
       "2     3                          Jain   \n",
       "3     4                     Teya Dora   \n",
       "4     5  Bibi Babydoll & Dj Brunin XM   \n",
       "\n",
       "                                               Title Week Number        date  \n",
       "0                       (It Goes Like) Nanana (Edit)      Week 1  07/28/2023  \n",
       "1  What Was I Made For? [From The Motion Picture ...      Week 1  07/28/2023  \n",
       "2                                             Makeba      Week 1  07/28/2023  \n",
       "3                                             Džanum      Week 1  07/28/2023  \n",
       "4                             Automotivo Bibi Fogosa      Week 1  07/28/2023  "
      ]
     },
     "execution_count": 7,
     "metadata": {},
     "output_type": "execute_result"
    }
   ],
   "source": [
    "# Adding the week number and date to each of the 4 dataframes\n",
    "\n",
    "df1['Week Number'] = Week1\n",
    "df1['date'] = '07/28/2023'\n",
    "df1.head()"
   ]
  },
  {
   "cell_type": "code",
   "execution_count": 8,
   "id": "3aa4d261",
   "metadata": {},
   "outputs": [],
   "source": [
    "# Adding week number and closing date to the other 3 dataframes\n",
    "\n",
    "df2[['Week Number', 'date']] = [Week2, '08/04/2023']\n",
    "df3[['Week Number', 'date']] = [Week3, '08/11/2023']\n",
    "df4[['Week Number', 'date']] = [Week4, '08/18/2023']"
   ]
  },
  {
   "cell_type": "code",
   "execution_count": 9,
   "id": "bcd028b7",
   "metadata": {},
   "outputs": [
    {
     "data": {
      "text/html": [
       "<div>\n",
       "<style scoped>\n",
       "    .dataframe tbody tr th:only-of-type {\n",
       "        vertical-align: middle;\n",
       "    }\n",
       "\n",
       "    .dataframe tbody tr th {\n",
       "        vertical-align: top;\n",
       "    }\n",
       "\n",
       "    .dataframe thead th {\n",
       "        text-align: right;\n",
       "    }\n",
       "</style>\n",
       "<table border=\"1\" class=\"dataframe\">\n",
       "  <thead>\n",
       "    <tr style=\"text-align: right;\">\n",
       "      <th></th>\n",
       "      <th>Rank</th>\n",
       "      <th>Artist</th>\n",
       "      <th>Title</th>\n",
       "      <th>Week Number</th>\n",
       "      <th>date</th>\n",
       "    </tr>\n",
       "  </thead>\n",
       "  <tbody>\n",
       "    <tr>\n",
       "      <th>0</th>\n",
       "      <td>1</td>\n",
       "      <td>Peggy Gou</td>\n",
       "      <td>(It Goes Like) Nanana (Edit)</td>\n",
       "      <td>Week 1</td>\n",
       "      <td>07/28/2023</td>\n",
       "    </tr>\n",
       "    <tr>\n",
       "      <th>1</th>\n",
       "      <td>2</td>\n",
       "      <td>Billie Eilish</td>\n",
       "      <td>What Was I Made For? [From The Motion Picture ...</td>\n",
       "      <td>Week 1</td>\n",
       "      <td>07/28/2023</td>\n",
       "    </tr>\n",
       "    <tr>\n",
       "      <th>2</th>\n",
       "      <td>3</td>\n",
       "      <td>Jain</td>\n",
       "      <td>Makeba</td>\n",
       "      <td>Week 1</td>\n",
       "      <td>07/28/2023</td>\n",
       "    </tr>\n",
       "    <tr>\n",
       "      <th>3</th>\n",
       "      <td>4</td>\n",
       "      <td>Teya Dora</td>\n",
       "      <td>Džanum</td>\n",
       "      <td>Week 1</td>\n",
       "      <td>07/28/2023</td>\n",
       "    </tr>\n",
       "    <tr>\n",
       "      <th>4</th>\n",
       "      <td>5</td>\n",
       "      <td>Bibi Babydoll &amp; Dj Brunin XM</td>\n",
       "      <td>Automotivo Bibi Fogosa</td>\n",
       "      <td>Week 1</td>\n",
       "      <td>07/28/2023</td>\n",
       "    </tr>\n",
       "  </tbody>\n",
       "</table>\n",
       "</div>"
      ],
      "text/plain": [
       "   Rank                        Artist  \\\n",
       "0     1                     Peggy Gou   \n",
       "1     2                 Billie Eilish   \n",
       "2     3                          Jain   \n",
       "3     4                     Teya Dora   \n",
       "4     5  Bibi Babydoll & Dj Brunin XM   \n",
       "\n",
       "                                               Title Week Number        date  \n",
       "0                       (It Goes Like) Nanana (Edit)      Week 1  07/28/2023  \n",
       "1  What Was I Made For? [From The Motion Picture ...      Week 1  07/28/2023  \n",
       "2                                             Makeba      Week 1  07/28/2023  \n",
       "3                                             Džanum      Week 1  07/28/2023  \n",
       "4                             Automotivo Bibi Fogosa      Week 1  07/28/2023  "
      ]
     },
     "execution_count": 9,
     "metadata": {},
     "output_type": "execute_result"
    }
   ],
   "source": [
    "# concatenating the 4 dataframes together\n",
    "\n",
    "df_concat = pd.concat([df1, df2, df3, df4])\n",
    "df_concat.head()"
   ]
  },
  {
   "cell_type": "code",
   "execution_count": 25,
   "id": "7c5fbdcb",
   "metadata": {},
   "outputs": [
    {
     "data": {
      "text/plain": [
       "Title                            \n",
       "Rush                                 8\n",
       "Casanova                             4\n",
       "Car's Outside                        4\n",
       "Everybody Wants To Rule The World    4\n",
       "Escapism.                            4\n",
       "dtype: int64"
      ]
     },
     "execution_count": 25,
     "metadata": {},
     "output_type": "execute_result"
    }
   ],
   "source": [
    "# Checking how many times each song was in the rankings to see if there is anything odd.\n",
    "# I noticed that 'Rush' was in the top rankings 8 times in 4 weeks.\n",
    "# This seems weird and worth investigating.\n",
    "\n",
    "df_concat.value_counts(['Title']).sort_values(ascending=False).head()"
   ]
  },
  {
   "cell_type": "code",
   "execution_count": 23,
   "id": "bec33837",
   "metadata": {},
   "outputs": [
    {
     "data": {
      "text/html": [
       "<div>\n",
       "<style scoped>\n",
       "    .dataframe tbody tr th:only-of-type {\n",
       "        vertical-align: middle;\n",
       "    }\n",
       "\n",
       "    .dataframe tbody tr th {\n",
       "        vertical-align: top;\n",
       "    }\n",
       "\n",
       "    .dataframe thead th {\n",
       "        text-align: right;\n",
       "    }\n",
       "</style>\n",
       "<table border=\"1\" class=\"dataframe\">\n",
       "  <thead>\n",
       "    <tr style=\"text-align: right;\">\n",
       "      <th></th>\n",
       "      <th>Rank</th>\n",
       "      <th>Artist</th>\n",
       "      <th>Title</th>\n",
       "      <th>Week Number</th>\n",
       "      <th>date</th>\n",
       "    </tr>\n",
       "  </thead>\n",
       "  <tbody>\n",
       "    <tr>\n",
       "      <th>41</th>\n",
       "      <td>42</td>\n",
       "      <td>Ayra Starr</td>\n",
       "      <td>Rush</td>\n",
       "      <td>Week 1</td>\n",
       "      <td>2023-07-28</td>\n",
       "    </tr>\n",
       "    <tr>\n",
       "      <th>128</th>\n",
       "      <td>129</td>\n",
       "      <td>Troye Sivan</td>\n",
       "      <td>Rush</td>\n",
       "      <td>Week 1</td>\n",
       "      <td>2023-07-28</td>\n",
       "    </tr>\n",
       "    <tr>\n",
       "      <th>40</th>\n",
       "      <td>41</td>\n",
       "      <td>Ayra Starr</td>\n",
       "      <td>Rush</td>\n",
       "      <td>Week 2</td>\n",
       "      <td>2023-08-04</td>\n",
       "    </tr>\n",
       "    <tr>\n",
       "      <th>95</th>\n",
       "      <td>96</td>\n",
       "      <td>Troye Sivan</td>\n",
       "      <td>Rush</td>\n",
       "      <td>Week 2</td>\n",
       "      <td>2023-08-04</td>\n",
       "    </tr>\n",
       "    <tr>\n",
       "      <th>43</th>\n",
       "      <td>44</td>\n",
       "      <td>Ayra Starr</td>\n",
       "      <td>Rush</td>\n",
       "      <td>Week 3</td>\n",
       "      <td>2023-08-11</td>\n",
       "    </tr>\n",
       "    <tr>\n",
       "      <th>89</th>\n",
       "      <td>90</td>\n",
       "      <td>Troye Sivan</td>\n",
       "      <td>Rush</td>\n",
       "      <td>Week 3</td>\n",
       "      <td>2023-08-11</td>\n",
       "    </tr>\n",
       "    <tr>\n",
       "      <th>45</th>\n",
       "      <td>46</td>\n",
       "      <td>Ayra Starr</td>\n",
       "      <td>Rush</td>\n",
       "      <td>Week 4</td>\n",
       "      <td>2023-08-18</td>\n",
       "    </tr>\n",
       "    <tr>\n",
       "      <th>101</th>\n",
       "      <td>102</td>\n",
       "      <td>Troye Sivan</td>\n",
       "      <td>Rush</td>\n",
       "      <td>Week 4</td>\n",
       "      <td>2023-08-18</td>\n",
       "    </tr>\n",
       "  </tbody>\n",
       "</table>\n",
       "</div>"
      ],
      "text/plain": [
       "     Rank       Artist Title Week Number       date\n",
       "41     42   Ayra Starr  Rush      Week 1 2023-07-28\n",
       "128   129  Troye Sivan  Rush      Week 1 2023-07-28\n",
       "40     41   Ayra Starr  Rush      Week 2 2023-08-04\n",
       "95     96  Troye Sivan  Rush      Week 2 2023-08-04\n",
       "43     44   Ayra Starr  Rush      Week 3 2023-08-11\n",
       "89     90  Troye Sivan  Rush      Week 3 2023-08-11\n",
       "45     46   Ayra Starr  Rush      Week 4 2023-08-18\n",
       "101   102  Troye Sivan  Rush      Week 4 2023-08-18"
      ]
     },
     "execution_count": 23,
     "metadata": {},
     "output_type": "execute_result"
    }
   ],
   "source": [
    "# It looks like there are actually 2 songs called 'Rush' by different artists, so this is okay.\n",
    "\n",
    "df_concat[df_concat['Title']=='Rush']"
   ]
  },
  {
   "cell_type": "code",
   "execution_count": 38,
   "id": "f9ce7438",
   "metadata": {},
   "outputs": [
    {
     "data": {
      "text/plain": [
       "Rank                    int64\n",
       "Artist                 object\n",
       "Title                  object\n",
       "Week Number            object\n",
       "date           datetime64[ns]\n",
       "dtype: object"
      ]
     },
     "execution_count": 38,
     "metadata": {},
     "output_type": "execute_result"
    }
   ],
   "source": [
    "# Checking to make sure data types are correct\n",
    "# date needs to be changed to the 'date' datatype\n",
    "\n",
    "df_concat.dtypes"
   ]
  },
  {
   "cell_type": "code",
   "execution_count": 39,
   "id": "dbc297e1",
   "metadata": {},
   "outputs": [
    {
     "data": {
      "text/html": [
       "<div>\n",
       "<style scoped>\n",
       "    .dataframe tbody tr th:only-of-type {\n",
       "        vertical-align: middle;\n",
       "    }\n",
       "\n",
       "    .dataframe tbody tr th {\n",
       "        vertical-align: top;\n",
       "    }\n",
       "\n",
       "    .dataframe thead th {\n",
       "        text-align: right;\n",
       "    }\n",
       "</style>\n",
       "<table border=\"1\" class=\"dataframe\">\n",
       "  <thead>\n",
       "    <tr style=\"text-align: right;\">\n",
       "      <th></th>\n",
       "      <th>Rank</th>\n",
       "      <th>Artist</th>\n",
       "      <th>Title</th>\n",
       "      <th>Week Number</th>\n",
       "      <th>date</th>\n",
       "    </tr>\n",
       "  </thead>\n",
       "  <tbody>\n",
       "    <tr>\n",
       "      <th>0</th>\n",
       "      <td>1</td>\n",
       "      <td>Peggy Gou</td>\n",
       "      <td>(It Goes Like) Nanana (Edit)</td>\n",
       "      <td>Week 1</td>\n",
       "      <td>2023-07-28</td>\n",
       "    </tr>\n",
       "    <tr>\n",
       "      <th>1</th>\n",
       "      <td>2</td>\n",
       "      <td>Billie Eilish</td>\n",
       "      <td>What Was I Made For? [From The Motion Picture ...</td>\n",
       "      <td>Week 1</td>\n",
       "      <td>2023-07-28</td>\n",
       "    </tr>\n",
       "    <tr>\n",
       "      <th>2</th>\n",
       "      <td>3</td>\n",
       "      <td>Jain</td>\n",
       "      <td>Makeba</td>\n",
       "      <td>Week 1</td>\n",
       "      <td>2023-07-28</td>\n",
       "    </tr>\n",
       "  </tbody>\n",
       "</table>\n",
       "</div>"
      ],
      "text/plain": [
       "   Rank         Artist                                              Title  \\\n",
       "0     1      Peggy Gou                       (It Goes Like) Nanana (Edit)   \n",
       "1     2  Billie Eilish  What Was I Made For? [From The Motion Picture ...   \n",
       "2     3           Jain                                             Makeba   \n",
       "\n",
       "  Week Number       date  \n",
       "0      Week 1 2023-07-28  \n",
       "1      Week 1 2023-07-28  \n",
       "2      Week 1 2023-07-28  "
      ]
     },
     "execution_count": 39,
     "metadata": {},
     "output_type": "execute_result"
    }
   ],
   "source": [
    "# changing 'date' to date dtype\n",
    "\n",
    "df_concat['date'] = pd.to_datetime(df_concat['date'])\n",
    "df_concat.head(3)"
   ]
  },
  {
   "cell_type": "code",
   "execution_count": 40,
   "id": "a056993e",
   "metadata": {},
   "outputs": [
    {
     "data": {
      "text/plain": [
       "Rank                    int64\n",
       "Artist                 object\n",
       "Title                  object\n",
       "Week Number            object\n",
       "date           datetime64[ns]\n",
       "dtype: object"
      ]
     },
     "execution_count": 40,
     "metadata": {},
     "output_type": "execute_result"
    }
   ],
   "source": [
    "# Checking new dtypes to make sure date change works\n",
    "\n",
    "df_concat.dtypes"
   ]
  },
  {
   "cell_type": "code",
   "execution_count": 41,
   "id": "724cef91",
   "metadata": {},
   "outputs": [
    {
     "name": "stdout",
     "output_type": "stream",
     "text": [
      "<class 'pandas.core.frame.DataFrame'>\n",
      "Int64Index: 800 entries, 0 to 199\n",
      "Data columns (total 5 columns):\n",
      " #   Column       Non-Null Count  Dtype         \n",
      "---  ------       --------------  -----         \n",
      " 0   Rank         800 non-null    int64         \n",
      " 1   Artist       800 non-null    object        \n",
      " 2   Title        800 non-null    object        \n",
      " 3   Week Number  800 non-null    object        \n",
      " 4   date         800 non-null    datetime64[ns]\n",
      "dtypes: datetime64[ns](1), int64(1), object(3)\n",
      "memory usage: 37.5+ KB\n"
     ]
    }
   ],
   "source": [
    "# Checking for any more incorrect info and to make sure there is the correct count of rows. All looks good\n",
    "\n",
    "df_concat.info()"
   ]
  },
  {
   "cell_type": "code",
   "execution_count": 42,
   "id": "7d91f7f4",
   "metadata": {},
   "outputs": [
    {
     "data": {
      "text/html": [
       "<div>\n",
       "<style scoped>\n",
       "    .dataframe tbody tr th:only-of-type {\n",
       "        vertical-align: middle;\n",
       "    }\n",
       "\n",
       "    .dataframe tbody tr th {\n",
       "        vertical-align: top;\n",
       "    }\n",
       "\n",
       "    .dataframe thead th {\n",
       "        text-align: right;\n",
       "    }\n",
       "</style>\n",
       "<table border=\"1\" class=\"dataframe\">\n",
       "  <thead>\n",
       "    <tr style=\"text-align: right;\">\n",
       "      <th>Week Number</th>\n",
       "      <th>Week 1</th>\n",
       "      <th>Week 2</th>\n",
       "      <th>Week 3</th>\n",
       "      <th>Week 4</th>\n",
       "    </tr>\n",
       "    <tr>\n",
       "      <th>Title</th>\n",
       "      <th></th>\n",
       "      <th></th>\n",
       "      <th></th>\n",
       "      <th></th>\n",
       "    </tr>\n",
       "  </thead>\n",
       "  <tbody>\n",
       "    <tr>\n",
       "      <th>(It Goes Like) Nanana (Edit)</th>\n",
       "      <td>1.0</td>\n",
       "      <td>1.0</td>\n",
       "      <td>1.0</td>\n",
       "      <td>1.0</td>\n",
       "    </tr>\n",
       "    <tr>\n",
       "      <th>3:15 (Slowed Down + Reverb)</th>\n",
       "      <td>122.0</td>\n",
       "      <td>141.0</td>\n",
       "      <td>139.0</td>\n",
       "      <td>128.0</td>\n",
       "    </tr>\n",
       "    <tr>\n",
       "      <th>7 Seconds (feat. Coco &amp; Pape Diouf)</th>\n",
       "      <td>NaN</td>\n",
       "      <td>NaN</td>\n",
       "      <td>161.0</td>\n",
       "      <td>155.0</td>\n",
       "    </tr>\n",
       "    <tr>\n",
       "      <th>Aber sie</th>\n",
       "      <td>170.0</td>\n",
       "      <td>192.0</td>\n",
       "      <td>180.0</td>\n",
       "      <td>NaN</td>\n",
       "    </tr>\n",
       "    <tr>\n",
       "      <th>African Vibe PT 2</th>\n",
       "      <td>37.0</td>\n",
       "      <td>50.0</td>\n",
       "      <td>57.0</td>\n",
       "      <td>70.0</td>\n",
       "    </tr>\n",
       "  </tbody>\n",
       "</table>\n",
       "</div>"
      ],
      "text/plain": [
       "Week Number                          Week 1  Week 2  Week 3  Week 4\n",
       "Title                                                              \n",
       "(It Goes Like) Nanana (Edit)            1.0     1.0     1.0     1.0\n",
       "3:15 (Slowed Down + Reverb)           122.0   141.0   139.0   128.0\n",
       "7 Seconds (feat. Coco & Pape Diouf)     NaN     NaN   161.0   155.0\n",
       "Aber sie                              170.0   192.0   180.0     NaN\n",
       "African Vibe PT 2                      37.0    50.0    57.0    70.0"
      ]
     },
     "execution_count": 42,
     "metadata": {},
     "output_type": "execute_result"
    }
   ],
   "source": [
    "# creating a pivot table from the concatenated dataset to see how each song's rank changed week-by-week\n",
    "\n",
    "df_pivot = pd.pivot_table(df_concat, values='Rank', index='Title', columns='Week Number')\n",
    "df_pivot.head()"
   ]
  },
  {
   "cell_type": "code",
   "execution_count": 43,
   "id": "8df75be2",
   "metadata": {},
   "outputs": [
    {
     "data": {
      "text/plain": [
       "Index(['Week 1', 'Week 2', 'Week 3', 'Week 4'], dtype='object', name='Week Number')"
      ]
     },
     "execution_count": 43,
     "metadata": {},
     "output_type": "execute_result"
    }
   ],
   "source": [
    "df_pivot.columns"
   ]
  },
  {
   "cell_type": "code",
   "execution_count": 44,
   "id": "ba34939d",
   "metadata": {},
   "outputs": [
    {
     "data": {
      "text/html": [
       "<div>\n",
       "<style scoped>\n",
       "    .dataframe tbody tr th:only-of-type {\n",
       "        vertical-align: middle;\n",
       "    }\n",
       "\n",
       "    .dataframe tbody tr th {\n",
       "        vertical-align: top;\n",
       "    }\n",
       "\n",
       "    .dataframe thead th {\n",
       "        text-align: right;\n",
       "    }\n",
       "</style>\n",
       "<table border=\"1\" class=\"dataframe\">\n",
       "  <thead>\n",
       "    <tr style=\"text-align: right;\">\n",
       "      <th>Week Number</th>\n",
       "      <th>Title</th>\n",
       "      <th>Week 1</th>\n",
       "      <th>Week 2</th>\n",
       "      <th>Week 3</th>\n",
       "      <th>Week 4</th>\n",
       "    </tr>\n",
       "  </thead>\n",
       "  <tbody>\n",
       "    <tr>\n",
       "      <th>0</th>\n",
       "      <td>(It Goes Like) Nanana (Edit)</td>\n",
       "      <td>1.0</td>\n",
       "      <td>1.0</td>\n",
       "      <td>1.0</td>\n",
       "      <td>1.0</td>\n",
       "    </tr>\n",
       "    <tr>\n",
       "      <th>1</th>\n",
       "      <td>3:15 (Slowed Down + Reverb)</td>\n",
       "      <td>122.0</td>\n",
       "      <td>141.0</td>\n",
       "      <td>139.0</td>\n",
       "      <td>128.0</td>\n",
       "    </tr>\n",
       "    <tr>\n",
       "      <th>2</th>\n",
       "      <td>7 Seconds (feat. Coco &amp; Pape Diouf)</td>\n",
       "      <td>NaN</td>\n",
       "      <td>NaN</td>\n",
       "      <td>161.0</td>\n",
       "      <td>155.0</td>\n",
       "    </tr>\n",
       "    <tr>\n",
       "      <th>3</th>\n",
       "      <td>Aber sie</td>\n",
       "      <td>170.0</td>\n",
       "      <td>192.0</td>\n",
       "      <td>180.0</td>\n",
       "      <td>NaN</td>\n",
       "    </tr>\n",
       "    <tr>\n",
       "      <th>4</th>\n",
       "      <td>African Vibe PT 2</td>\n",
       "      <td>37.0</td>\n",
       "      <td>50.0</td>\n",
       "      <td>57.0</td>\n",
       "      <td>70.0</td>\n",
       "    </tr>\n",
       "  </tbody>\n",
       "</table>\n",
       "</div>"
      ],
      "text/plain": [
       "Week Number                                Title  Week 1  Week 2  Week 3  \\\n",
       "0                   (It Goes Like) Nanana (Edit)     1.0     1.0     1.0   \n",
       "1                    3:15 (Slowed Down + Reverb)   122.0   141.0   139.0   \n",
       "2            7 Seconds (feat. Coco & Pape Diouf)     NaN     NaN   161.0   \n",
       "3                                       Aber sie   170.0   192.0   180.0   \n",
       "4                              African Vibe PT 2    37.0    50.0    57.0   \n",
       "\n",
       "Week Number  Week 4  \n",
       "0               1.0  \n",
       "1             128.0  \n",
       "2             155.0  \n",
       "3               NaN  \n",
       "4              70.0  "
      ]
     },
     "execution_count": 44,
     "metadata": {},
     "output_type": "execute_result"
    }
   ],
   "source": [
    "# resetting index so \"title\" is recognized as a column\n",
    "\n",
    "df_pivot.reset_index(inplace=True)\n",
    "df_pivot.head()"
   ]
  },
  {
   "cell_type": "code",
   "execution_count": 45,
   "id": "63d97fbf",
   "metadata": {},
   "outputs": [
    {
     "data": {
      "text/plain": [
       "Index(['Title', 'Week 1', 'Week 2', 'Week 3', 'Week 4'], dtype='object', name='Week Number')"
      ]
     },
     "execution_count": 45,
     "metadata": {},
     "output_type": "execute_result"
    }
   ],
   "source": [
    "df_pivot.columns"
   ]
  },
  {
   "cell_type": "code",
   "execution_count": 46,
   "id": "d99cbf06",
   "metadata": {},
   "outputs": [],
   "source": [
    "# Exporting dataframe to csv\n",
    "\n",
    "df_pivot.to_csv('Pandora.csv', index=True)"
   ]
  }
 ],
 "metadata": {
  "kernelspec": {
   "display_name": "Python 3 (ipykernel)",
   "language": "python",
   "name": "python3"
  },
  "language_info": {
   "codemirror_mode": {
    "name": "ipython",
    "version": 3
   },
   "file_extension": ".py",
   "mimetype": "text/x-python",
   "name": "python",
   "nbconvert_exporter": "python",
   "pygments_lexer": "ipython3",
   "version": "3.10.9"
  }
 },
 "nbformat": 4,
 "nbformat_minor": 5
}
